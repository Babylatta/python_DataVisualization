{
 "cells": [
  {
   "cell_type": "code",
   "execution_count": 1,
   "id": "61b8bb6d-1dc4-484a-a2df-3114a609e100",
   "metadata": {},
   "outputs": [
    {
     "ename": "ModuleNotFoundError",
     "evalue": "No module named 'pandas'",
     "output_type": "error",
     "traceback": [
      "\u001b[0;31m---------------------------------------------------------------------------\u001b[0m",
      "\u001b[0;31mModuleNotFoundError\u001b[0m                       Traceback (most recent call last)",
      "Cell \u001b[0;32mIn[1], line 1\u001b[0m\n\u001b[0;32m----> 1\u001b[0m \u001b[38;5;28;01mimport\u001b[39;00m \u001b[38;5;21;01mpandas\u001b[39;00m \u001b[38;5;28;01mas\u001b[39;00m \u001b[38;5;21;01mpd\u001b[39;00m\n\u001b[1;32m      3\u001b[0m \u001b[38;5;28;01mdef\u001b[39;00m \u001b[38;5;21mmake_global_df\u001b[39m():\n\u001b[1;32m      4\u001b[0m     \u001b[38;5;28;01mdef\u001b[39;00m \u001b[38;5;21mmake_df\u001b[39m(condition):\n",
      "\u001b[0;31mModuleNotFoundError\u001b[0m: No module named 'pandas'"
     ]
    }
   ],
   "source": [
    "import pandas as pd\n",
    "\n",
    "def make_global_df():\n",
    "    def make_df(condition):\n",
    "        df = pd.read_csv(f\"data/time_{condition}.csv\")\n",
    "        df = (\n",
    "            df.drop([\"Province/State\", \"Country/Region\", \"Lat\", \"Long\"], axis=1)\n",
    "            .sum()\n",
    "            .reset_index(name=condition)\n",
    "        )\n",
    "        df = df.rename(columns={\"index\": \"date\"})\n",
    "        return df\n",
    "    \n",
    "    final_df = None\n",
    "    \n",
    "    for condition in conditions:\n",
    "        condition_df = make_df(condition)\n",
    "        if final_df is None:\n",
    "            final_df = condition_df\n",
    "        else:\n",
    "            final_df = final_df.merge(condition_df)\n",
    "    return final_df\n",
    "\n",
    "global_df = make_global_df()\n",
    "global_df\n",
    "            "
   ]
  },
  {
   "cell_type": "code",
   "execution_count": null,
   "id": "f71d6d03-a838-4664-841a-8ae8f1dd731c",
   "metadata": {},
   "outputs": [],
   "source": []
  },
  {
   "cell_type": "code",
   "execution_count": null,
   "id": "87c02a80-6d55-42a2-8bb8-288fdb095d80",
   "metadata": {},
   "outputs": [],
   "source": []
  },
  {
   "cell_type": "code",
   "execution_count": null,
   "id": "4b53905b-75fe-49e4-914e-3772d908e13d",
   "metadata": {},
   "outputs": [],
   "source": []
  }
 ],
 "metadata": {
  "kernelspec": {
   "display_name": "Python 3 (ipykernel)",
   "language": "python",
   "name": "python3"
  },
  "language_info": {
   "codemirror_mode": {
    "name": "ipython",
    "version": 3
   },
   "file_extension": ".py",
   "mimetype": "text/x-python",
   "name": "python",
   "nbconvert_exporter": "python",
   "pygments_lexer": "ipython3",
   "version": "3.10.12"
  }
 },
 "nbformat": 4,
 "nbformat_minor": 5
}
