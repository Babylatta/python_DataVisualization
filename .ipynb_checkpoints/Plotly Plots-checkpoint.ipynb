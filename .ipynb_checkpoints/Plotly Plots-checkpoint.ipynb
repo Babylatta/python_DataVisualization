{
 "cells": [
  {
   "cell_type": "code",
   "execution_count": 31,
   "id": "e724ff4d-8f61-4c74-9625-d6185210f33f",
   "metadata": {},
   "outputs": [
    {
     "name": "stdout",
     "output_type": "stream",
     "text": [
      "  Country_Region  Confirmed   Deaths  Recovered\n",
      "0             US  102000208  1104191        0.0\n",
      "1          India   44683239   530735        0.0\n",
      "2         France   39681509   164793        0.0\n",
      "3        Germany   37668384   164703        0.0\n",
      "4         Brazil   36718053   696257        0.0\n"
     ]
    },
    {
     "data": {
      "application/vnd.plotly.v1+json": {
       "config": {
        "plotlyServerURL": "https://plot.ly"
       },
       "data": [
        {
         "customdata": [
          [
           102000208,
           1104191,
           0,
           "US"
          ],
          [
           44683239,
           530735,
           0,
           "India"
          ],
          [
           39681509,
           164793,
           0,
           "France"
          ],
          [
           37668384,
           164703,
           0,
           "Germany"
          ],
          [
           36718053,
           696257,
           0,
           "Brazil"
          ],
          [
           32067470,
           65377,
           0,
           "Japan"
          ],
          [
           30008756,
           33235,
           0,
           "Korea, South"
          ],
          [
           25415630,
           186488,
           0,
           "Italy"
          ],
          [
           24492024,
           219432,
           0,
           "United Kingdom"
          ],
          [
           21585328,
           386748,
           0,
           "Russia"
          ],
          [
           17042722,
           101492,
           0,
           "Turkey"
          ],
          [
           13722677,
           118183,
           0,
           "Spain"
          ],
          [
           11526329,
           43186,
           0,
           "Vietnam"
          ],
          [
           11274262,
           18092,
           0,
           "Australia"
          ],
          [
           10024095,
           130338,
           0,
           "Argentina"
          ],
          [
           9342958,
           16098,
           0,
           "Taiwan*"
          ],
          [
           8692332,
           23704,
           0,
           "Netherlands"
          ],
          [
           7563385,
           144735,
           0,
           "Iran"
          ],
          [
           7342277,
           331881,
           0,
           "Mexico"
          ],
          [
           6728065,
           160781,
           0,
           "Indonesia"
          ],
          [
           6375463,
           118681,
           0,
           "Poland"
          ],
          [
           6348356,
           142085,
           0,
           "Colombia"
          ],
          [
           5755617,
           21626,
           0,
           "Austria"
          ],
          [
           5675861,
           118924,
           0,
           "Ukraine"
          ],
          [
           5562214,
           25942,
           0,
           "Portugal"
          ],
          [
           5548487,
           34779,
           0,
           "Greece"
          ],
          [
           5103912,
           63667,
           0,
           "Chile"
          ],
          [
           5034830,
           36932,
           0,
           "Malaysia"
          ],
          [
           4885426,
           91061,
           0,
           "China"
          ],
          [
           4780946,
           12148,
           0,
           "Israel"
          ],
          [
           4725885,
           33792,
           0,
           "Thailand"
          ],
          [
           4688927,
           33525,
           0,
           "Belgium"
          ],
          [
           4586781,
           42280,
           0,
           "Czechia"
          ],
          [
           4551279,
           50248,
           0,
           "Canada"
          ],
          [
           4478971,
           218649,
           0,
           "Peru"
          ],
          [
           4406243,
           14243,
           0,
           "Switzerland"
          ],
          [
           4071963,
           65694,
           0,
           "Philippines"
          ],
          [
           4054160,
           102588,
           0,
           "South Africa"
          ],
          [
           3444735,
           8121,
           0,
           "Denmark"
          ],
          [
           3319680,
           67504,
           0,
           "Romania"
          ],
          [
           2690473,
           23020,
           0,
           "Sweden"
          ],
          [
           2659881,
           20906,
           0,
           "Slovakia"
          ],
          [
           2465545,
           25375,
           0,
           "Iraq"
          ],
          [
           2464913,
           17654,
           0,
           "Serbia"
          ],
          [
           2214234,
           1720,
           0,
           "Singapore"
          ],
          [
           2191200,
           48629,
           0,
           "Hungary"
          ],
          [
           2165651,
           2439,
           0,
           "New Zealand"
          ],
          [
           2037408,
           29441,
           0,
           "Bangladesh"
          ],
          [
           1811015,
           16909,
           0,
           "Georgia"
          ],
          [
           1746997,
           14122,
           0,
           "Jordan"
          ],
          [
           1699347,
           8431,
           0,
           "Ireland"
          ],
          [
           1576185,
           30640,
           0,
           "Pakistan"
          ],
          [
           1495880,
           19065,
           0,
           "Kazakhstan"
          ],
          [
           1477383,
           5036,
           0,
           "Norway"
          ],
          [
           1449829,
           8557,
           0,
           "Finland"
          ],
          [
           1319542,
           7045,
           0,
           "Slovenia"
          ],
          [
           1294871,
           38163,
           0,
           "Bulgaria"
          ],
          [
           1294208,
           9526,
           0,
           "Lithuania"
          ],
          [
           1272164,
           16296,
           0,
           "Morocco"
          ],
          [
           1267067,
           17815,
           0,
           "Croatia"
          ],
          [
           1227016,
           10775,
           0,
           "Lebanon"
          ],
          [
           1222942,
           20074,
           0,
           "Guatemala"
          ],
          [
           1183705,
           22342,
           0,
           "Bolivia"
          ],
          [
           1177514,
           9123,
           0,
           "Costa Rica"
          ],
          [
           1150217,
           29291,
           0,
           "Tunisia"
          ],
          [
           1112350,
           8530,
           0,
           "Cuba"
          ],
          [
           1048702,
           2348,
           0,
           "United Arab Emirates"
          ],
          [
           1047624,
           35940,
           0,
           "Ecuador"
          ],
          [
           1029564,
           7597,
           0,
           "Uruguay"
          ],
          [
           1028272,
           8589,
           0,
           "Panama"
          ],
          [
           1007855,
           2136,
           0,
           "Mongolia"
          ],
          [
           1001076,
           12020,
           0,
           "Nepal"
          ],
          [
           994037,
           7118,
           0,
           "Belarus"
          ],
          [
           975080,
           6206,
           0,
           "Latvia"
          ],
          [
           827667,
           10068,
           0,
           "Azerbaijan"
          ],
          [
           827608,
           9557,
           0,
           "Saudi Arabia"
          ],
          [
           805486,
           19778,
           0,
           "Paraguay"
          ],
          [
           703228,
           5708,
           0,
           "West Bank and Gaza"
          ],
          [
           699975,
           1541,
           0,
           "Bahrain"
          ],
          [
           671976,
           16825,
           0,
           "Sri Lanka"
          ],
          [
           662858,
           2570,
           0,
           "Kuwait"
          ],
          [
           659761,
           4384,
           0,
           "Dominican Republic"
          ],
          [
           640729,
           1280,
           0,
           "Cyprus"
          ],
          [
           633801,
           19490,
           0,
           "Burma"
          ],
          [
           613218,
           2896,
           0,
           "Estonia"
          ],
          [
           597598,
           11947,
           0,
           "Moldova"
          ],
          [
           551283,
           5840,
           0,
           "Venezuela"
          ],
          [
           515645,
           24805,
           0,
           "Egypt"
          ],
          [
           507158,
           6437,
           0,
           "Libya"
          ],
          [
           499306,
           7572,
           0,
           "Ethiopia"
          ],
          [
           491967,
           686,
           0,
           "Qatar"
          ],
          [
           470144,
           11099,
           0,
           "Honduras"
          ],
          [
           446008,
           8717,
           0,
           "Armenia"
          ],
          [
           401278,
           16248,
           0,
           "Bosnia and Herzegovina"
          ],
          [
           399154,
           4628,
           0,
           "Oman"
          ],
          [
           346297,
           9633,
           0,
           "North Macedonia"
          ],
          [
           342785,
           5688,
           0,
           "Kenya"
          ],
          [
           338986,
           4039,
           0,
           "Zambia"
          ],
          [
           334101,
           3596,
           0,
           "Albania"
          ],
          [
           328581,
           2795,
           0,
           "Botswana"
          ],
          [
           314223,
           1204,
           0,
           "Luxembourg"
          ],
          [
           293386,
           1042,
           0,
           "Mauritius"
          ],
          [
           285958,
           2795,
           0,
           "Montenegro"
          ],
          [
           274217,
           225,
           0,
           "Brunei"
          ],
          [
           272485,
           3202,
           0,
           "Kosovo"
          ],
          [
           271335,
           6881,
           0,
           "Algeria"
          ],
          [
           266463,
           3155,
           0,
           "Nigeria"
          ],
          [
           259981,
           5637,
           0,
           "Zimbabwe"
          ],
          [
           250360,
           1637,
           0,
           "Uzbekistan"
          ],
          [
           231404,
           2232,
           0,
           "Mozambique"
          ],
          [
           217944,
           758,
           0,
           "Laos"
          ],
          [
           208539,
           238,
           0,
           "Iceland"
          ],
          [
           208084,
           7864,
           0,
           "Afghanistan"
          ],
          [
           206588,
           2991,
           0,
           "Kyrgyzstan"
          ],
          [
           201785,
           4230,
           0,
           "El Salvador"
          ],
          [
           187204,
           4309,
           0,
           "Trinidad and Tobago"
          ],
          [
           185708,
           311,
           0,
           "Maldives"
          ],
          [
           171102,
           1462,
           0,
           "Ghana"
          ],
          [
           170496,
           4083,
           0,
           "Namibia"
          ],
          [
           170279,
           3630,
           0,
           "Uganda"
          ],
          [
           153143,
           3476,
           0,
           "Jamaica"
          ],
          [
           138676,
           3056,
           0,
           "Cambodia"
          ],
          [
           133078,
           1468,
           0,
           "Rwanda"
          ],
          [
           123993,
           1965,
           0,
           "Cameroon"
          ],
          [
           116894,
           823,
           0,
           "Malta"
          ],
          [
           105905,
           569,
           0,
           "Barbados"
          ],
          [
           105095,
           1930,
           0,
           "Angola"
          ],
          [
           95346,
           1463,
           0,
           "Congo (Kinshasa)"
          ],
          [
           88900,
           1968,
           0,
           "Senegal"
          ],
          [
           88446,
           2686,
           0,
           "Malawi"
          ],
          [
           87966,
           833,
           0,
           "Cote d'Ivoire"
          ],
          [
           82020,
           1398,
           0,
           "Suriname"
          ],
          [
           74114,
           1422,
           0,
           "Eswatini"
          ],
          [
           72815,
           1293,
           0,
           "Guyana"
          ],
          [
           70555,
           688,
           0,
           "Belize"
          ],
          [
           68808,
           883,
           0,
           "Fiji"
          ],
          [
           67817,
           1419,
           0,
           "Madagascar"
          ],
          [
           63725,
           5001,
           0,
           "Sudan"
          ],
          [
           63664,
           997,
           0,
           "Mauritania"
          ],
          [
           63224,
           412,
           0,
           "Cabo Verde"
          ],
          [
           62577,
           21,
           0,
           "Bhutan"
          ],
          [
           57450,
           3164,
           0,
           "Syria"
          ],
          [
           52429,
           38,
           0,
           "Burundi"
          ],
          [
           50355,
           172,
           0,
           "Seychelles"
          ],
          [
           48980,
           306,
           0,
           "Gabon"
          ],
          [
           47820,
           165,
           0,
           "Andorra"
          ],
          [
           46663,
           669,
           0,
           "Papua New Guinea"
          ],
          [
           42530,
           846,
           0,
           "Tanzania"
          ],
          [
           39353,
           290,
           0,
           "Togo"
          ],
          [
           38224,
           467,
           0,
           "Guinea"
          ],
          [
           37491,
           833,
           0,
           "Bahamas"
          ],
          [
           34790,
           723,
           0,
           "Lesotho"
          ],
          [
           34008,
           860,
           0,
           "Haiti"
          ],
          [
           32775,
           743,
           0,
           "Mali"
          ],
          [
           29761,
           409,
           0,
           "Saint Lucia"
          ],
          [
           27989,
           163,
           0,
           "Benin"
          ],
          [
           27310,
           1361,
           0,
           "Somalia"
          ],
          [
           25375,
           386,
           0,
           "Congo (Brazzaville)"
          ],
          [
           24575,
           153,
           0,
           "Solomon Islands"
          ],
          [
           23409,
           138,
           0,
           "Timor-Leste"
          ],
          [
           23370,
           122,
           0,
           "San Marino"
          ],
          [
           22676,
           58,
           0,
           "Micronesia"
          ],
          [
           22025,
           396,
           0,
           "Burkina Faso"
          ],
          [
           21343,
           89,
           0,
           "Liechtenstein"
          ],
          [
           19680,
           238,
           0,
           "Grenada"
          ],
          [
           18368,
           138,
           0,
           "South Sudan"
          ],
          [
           17786,
           125,
           0,
           "Tajikistan"
          ],
          [
           17186,
           183,
           0,
           "Equatorial Guinea"
          ],
          [
           16590,
           13,
           0,
           "Tonga"
          ],
          [
           16041,
           65,
           0,
           "Monaco"
          ],
          [
           16022,
           29,
           0,
           "Samoa"
          ],
          [
           15760,
           74,
           0,
           "Dominica"
          ],
          [
           15690,
           189,
           0,
           "Djibouti"
          ],
          [
           15554,
           17,
           0,
           "Marshall Islands"
          ],
          [
           15541,
           245,
           0,
           "Nicaragua"
          ],
          [
           15361,
           113,
           0,
           "Central African Republic"
          ],
          [
           12586,
           372,
           0,
           "Gambia"
          ],
          [
           12014,
           14,
           0,
           "Vanuatu"
          ],
          [
           11945,
           2159,
           0,
           "Yemen"
          ],
          [
           10189,
           103,
           0,
           "Eritrea"
          ],
          [
           9572,
           123,
           0,
           "Saint Vincent and the Grenadines"
          ],
          [
           9506,
           315,
           0,
           "Niger"
          ],
          [
           9106,
           146,
           0,
           "Antigua and Barbuda"
          ],
          [
           8992,
           161,
           0,
           "Comoros"
          ],
          [
           8947,
           176,
           0,
           "Guinea-Bissau"
          ],
          [
           8043,
           294,
           0,
           "Liberia"
          ],
          [
           7760,
           126,
           0,
           "Sierra Leone"
          ],
          [
           7651,
           194,
           0,
           "Chad"
          ],
          [
           6585,
           46,
           0,
           "Saint Kitts and Nevis"
          ],
          [
           6279,
           77,
           0,
           "Sao Tome and Principe"
          ],
          [
           5986,
           9,
           0,
           "Palau"
          ],
          [
           4991,
           18,
           0,
           "Kiribati"
          ],
          [
           4621,
           1,
           0,
           "Nauru"
          ],
          [
           2805,
           0,
           0,
           "Tuvalu"
          ],
          [
           865,
           0,
           0,
           "Summer Olympics 2020"
          ],
          [
           712,
           13,
           0,
           "Diamond Princess"
          ],
          [
           535,
           0,
           0,
           "Winter Olympics 2022"
          ],
          [
           29,
           0,
           0,
           "Holy See"
          ],
          [
           11,
           0,
           0,
           "Antarctica"
          ],
          [
           9,
           2,
           0,
           "MS Zaandam"
          ],
          [
           1,
           6,
           0,
           "Korea, North"
          ]
         ],
         "geo": "geo",
         "hovertemplate": "<b>%{hovertext}</b><br><br>Confirmed=%{marker.color:,.0f}<br>Deaths=%{customdata[1]:,.0f}<br>Recovered=%{customdata[2]:,.0f}<extra></extra>",
         "hovertext": [
          "US",
          "India",
          "France",
          "Germany",
          "Brazil",
          "Japan",
          "Korea, South",
          "Italy",
          "United Kingdom",
          "Russia",
          "Turkey",
          "Spain",
          "Vietnam",
          "Australia",
          "Argentina",
          "Taiwan*",
          "Netherlands",
          "Iran",
          "Mexico",
          "Indonesia",
          "Poland",
          "Colombia",
          "Austria",
          "Ukraine",
          "Portugal",
          "Greece",
          "Chile",
          "Malaysia",
          "China",
          "Israel",
          "Thailand",
          "Belgium",
          "Czechia",
          "Canada",
          "Peru",
          "Switzerland",
          "Philippines",
          "South Africa",
          "Denmark",
          "Romania",
          "Sweden",
          "Slovakia",
          "Iraq",
          "Serbia",
          "Singapore",
          "Hungary",
          "New Zealand",
          "Bangladesh",
          "Georgia",
          "Jordan",
          "Ireland",
          "Pakistan",
          "Kazakhstan",
          "Norway",
          "Finland",
          "Slovenia",
          "Bulgaria",
          "Lithuania",
          "Morocco",
          "Croatia",
          "Lebanon",
          "Guatemala",
          "Bolivia",
          "Costa Rica",
          "Tunisia",
          "Cuba",
          "United Arab Emirates",
          "Ecuador",
          "Uruguay",
          "Panama",
          "Mongolia",
          "Nepal",
          "Belarus",
          "Latvia",
          "Azerbaijan",
          "Saudi Arabia",
          "Paraguay",
          "West Bank and Gaza",
          "Bahrain",
          "Sri Lanka",
          "Kuwait",
          "Dominican Republic",
          "Cyprus",
          "Burma",
          "Estonia",
          "Moldova",
          "Venezuela",
          "Egypt",
          "Libya",
          "Ethiopia",
          "Qatar",
          "Honduras",
          "Armenia",
          "Bosnia and Herzegovina",
          "Oman",
          "North Macedonia",
          "Kenya",
          "Zambia",
          "Albania",
          "Botswana",
          "Luxembourg",
          "Mauritius",
          "Montenegro",
          "Brunei",
          "Kosovo",
          "Algeria",
          "Nigeria",
          "Zimbabwe",
          "Uzbekistan",
          "Mozambique",
          "Laos",
          "Iceland",
          "Afghanistan",
          "Kyrgyzstan",
          "El Salvador",
          "Trinidad and Tobago",
          "Maldives",
          "Ghana",
          "Namibia",
          "Uganda",
          "Jamaica",
          "Cambodia",
          "Rwanda",
          "Cameroon",
          "Malta",
          "Barbados",
          "Angola",
          "Congo (Kinshasa)",
          "Senegal",
          "Malawi",
          "Cote d'Ivoire",
          "Suriname",
          "Eswatini",
          "Guyana",
          "Belize",
          "Fiji",
          "Madagascar",
          "Sudan",
          "Mauritania",
          "Cabo Verde",
          "Bhutan",
          "Syria",
          "Burundi",
          "Seychelles",
          "Gabon",
          "Andorra",
          "Papua New Guinea",
          "Tanzania",
          "Togo",
          "Guinea",
          "Bahamas",
          "Lesotho",
          "Haiti",
          "Mali",
          "Saint Lucia",
          "Benin",
          "Somalia",
          "Congo (Brazzaville)",
          "Solomon Islands",
          "Timor-Leste",
          "San Marino",
          "Micronesia",
          "Burkina Faso",
          "Liechtenstein",
          "Grenada",
          "South Sudan",
          "Tajikistan",
          "Equatorial Guinea",
          "Tonga",
          "Monaco",
          "Samoa",
          "Dominica",
          "Djibouti",
          "Marshall Islands",
          "Nicaragua",
          "Central African Republic",
          "Gambia",
          "Vanuatu",
          "Yemen",
          "Eritrea",
          "Saint Vincent and the Grenadines",
          "Niger",
          "Antigua and Barbuda",
          "Comoros",
          "Guinea-Bissau",
          "Liberia",
          "Sierra Leone",
          "Chad",
          "Saint Kitts and Nevis",
          "Sao Tome and Principe",
          "Palau",
          "Kiribati",
          "Nauru",
          "Tuvalu",
          "Summer Olympics 2020",
          "Diamond Princess",
          "Winter Olympics 2022",
          "Holy See",
          "Antarctica",
          "MS Zaandam",
          "Korea, North"
         ],
         "legendgroup": "",
         "locationmode": "country names",
         "locations": [
          "US",
          "India",
          "France",
          "Germany",
          "Brazil",
          "Japan",
          "Korea, South",
          "Italy",
          "United Kingdom",
          "Russia",
          "Turkey",
          "Spain",
          "Vietnam",
          "Australia",
          "Argentina",
          "Taiwan*",
          "Netherlands",
          "Iran",
          "Mexico",
          "Indonesia",
          "Poland",
          "Colombia",
          "Austria",
          "Ukraine",
          "Portugal",
          "Greece",
          "Chile",
          "Malaysia",
          "China",
          "Israel",
          "Thailand",
          "Belgium",
          "Czechia",
          "Canada",
          "Peru",
          "Switzerland",
          "Philippines",
          "South Africa",
          "Denmark",
          "Romania",
          "Sweden",
          "Slovakia",
          "Iraq",
          "Serbia",
          "Singapore",
          "Hungary",
          "New Zealand",
          "Bangladesh",
          "Georgia",
          "Jordan",
          "Ireland",
          "Pakistan",
          "Kazakhstan",
          "Norway",
          "Finland",
          "Slovenia",
          "Bulgaria",
          "Lithuania",
          "Morocco",
          "Croatia",
          "Lebanon",
          "Guatemala",
          "Bolivia",
          "Costa Rica",
          "Tunisia",
          "Cuba",
          "United Arab Emirates",
          "Ecuador",
          "Uruguay",
          "Panama",
          "Mongolia",
          "Nepal",
          "Belarus",
          "Latvia",
          "Azerbaijan",
          "Saudi Arabia",
          "Paraguay",
          "West Bank and Gaza",
          "Bahrain",
          "Sri Lanka",
          "Kuwait",
          "Dominican Republic",
          "Cyprus",
          "Burma",
          "Estonia",
          "Moldova",
          "Venezuela",
          "Egypt",
          "Libya",
          "Ethiopia",
          "Qatar",
          "Honduras",
          "Armenia",
          "Bosnia and Herzegovina",
          "Oman",
          "North Macedonia",
          "Kenya",
          "Zambia",
          "Albania",
          "Botswana",
          "Luxembourg",
          "Mauritius",
          "Montenegro",
          "Brunei",
          "Kosovo",
          "Algeria",
          "Nigeria",
          "Zimbabwe",
          "Uzbekistan",
          "Mozambique",
          "Laos",
          "Iceland",
          "Afghanistan",
          "Kyrgyzstan",
          "El Salvador",
          "Trinidad and Tobago",
          "Maldives",
          "Ghana",
          "Namibia",
          "Uganda",
          "Jamaica",
          "Cambodia",
          "Rwanda",
          "Cameroon",
          "Malta",
          "Barbados",
          "Angola",
          "Congo (Kinshasa)",
          "Senegal",
          "Malawi",
          "Cote d'Ivoire",
          "Suriname",
          "Eswatini",
          "Guyana",
          "Belize",
          "Fiji",
          "Madagascar",
          "Sudan",
          "Mauritania",
          "Cabo Verde",
          "Bhutan",
          "Syria",
          "Burundi",
          "Seychelles",
          "Gabon",
          "Andorra",
          "Papua New Guinea",
          "Tanzania",
          "Togo",
          "Guinea",
          "Bahamas",
          "Lesotho",
          "Haiti",
          "Mali",
          "Saint Lucia",
          "Benin",
          "Somalia",
          "Congo (Brazzaville)",
          "Solomon Islands",
          "Timor-Leste",
          "San Marino",
          "Micronesia",
          "Burkina Faso",
          "Liechtenstein",
          "Grenada",
          "South Sudan",
          "Tajikistan",
          "Equatorial Guinea",
          "Tonga",
          "Monaco",
          "Samoa",
          "Dominica",
          "Djibouti",
          "Marshall Islands",
          "Nicaragua",
          "Central African Republic",
          "Gambia",
          "Vanuatu",
          "Yemen",
          "Eritrea",
          "Saint Vincent and the Grenadines",
          "Niger",
          "Antigua and Barbuda",
          "Comoros",
          "Guinea-Bissau",
          "Liberia",
          "Sierra Leone",
          "Chad",
          "Saint Kitts and Nevis",
          "Sao Tome and Principe",
          "Palau",
          "Kiribati",
          "Nauru",
          "Tuvalu",
          "Summer Olympics 2020",
          "Diamond Princess",
          "Winter Olympics 2022",
          "Holy See",
          "Antarctica",
          "MS Zaandam",
          "Korea, North"
         ],
         "marker": {
          "color": [
           102000208,
           44683239,
           39681509,
           37668384,
           36718053,
           32067470,
           30008756,
           25415630,
           24492024,
           21585328,
           17042722,
           13722677,
           11526329,
           11274262,
           10024095,
           9342958,
           8692332,
           7563385,
           7342277,
           6728065,
           6375463,
           6348356,
           5755617,
           5675861,
           5562214,
           5548487,
           5103912,
           5034830,
           4885426,
           4780946,
           4725885,
           4688927,
           4586781,
           4551279,
           4478971,
           4406243,
           4071963,
           4054160,
           3444735,
           3319680,
           2690473,
           2659881,
           2465545,
           2464913,
           2214234,
           2191200,
           2165651,
           2037408,
           1811015,
           1746997,
           1699347,
           1576185,
           1495880,
           1477383,
           1449829,
           1319542,
           1294871,
           1294208,
           1272164,
           1267067,
           1227016,
           1222942,
           1183705,
           1177514,
           1150217,
           1112350,
           1048702,
           1047624,
           1029564,
           1028272,
           1007855,
           1001076,
           994037,
           975080,
           827667,
           827608,
           805486,
           703228,
           699975,
           671976,
           662858,
           659761,
           640729,
           633801,
           613218,
           597598,
           551283,
           515645,
           507158,
           499306,
           491967,
           470144,
           446008,
           401278,
           399154,
           346297,
           342785,
           338986,
           334101,
           328581,
           314223,
           293386,
           285958,
           274217,
           272485,
           271335,
           266463,
           259981,
           250360,
           231404,
           217944,
           208539,
           208084,
           206588,
           201785,
           187204,
           185708,
           171102,
           170496,
           170279,
           153143,
           138676,
           133078,
           123993,
           116894,
           105905,
           105095,
           95346,
           88900,
           88446,
           87966,
           82020,
           74114,
           72815,
           70555,
           68808,
           67817,
           63725,
           63664,
           63224,
           62577,
           57450,
           52429,
           50355,
           48980,
           47820,
           46663,
           42530,
           39353,
           38224,
           37491,
           34790,
           34008,
           32775,
           29761,
           27989,
           27310,
           25375,
           24575,
           23409,
           23370,
           22676,
           22025,
           21343,
           19680,
           18368,
           17786,
           17186,
           16590,
           16041,
           16022,
           15760,
           15690,
           15554,
           15541,
           15361,
           12586,
           12014,
           11945,
           10189,
           9572,
           9506,
           9106,
           8992,
           8947,
           8043,
           7760,
           7651,
           6585,
           6279,
           5986,
           4991,
           4621,
           2805,
           865,
           712,
           535,
           29,
           11,
           9,
           1
          ],
          "coloraxis": "coloraxis",
          "size": [
           102000208,
           44683239,
           39681509,
           37668384,
           36718053,
           32067470,
           30008756,
           25415630,
           24492024,
           21585328,
           17042722,
           13722677,
           11526329,
           11274262,
           10024095,
           9342958,
           8692332,
           7563385,
           7342277,
           6728065,
           6375463,
           6348356,
           5755617,
           5675861,
           5562214,
           5548487,
           5103912,
           5034830,
           4885426,
           4780946,
           4725885,
           4688927,
           4586781,
           4551279,
           4478971,
           4406243,
           4071963,
           4054160,
           3444735,
           3319680,
           2690473,
           2659881,
           2465545,
           2464913,
           2214234,
           2191200,
           2165651,
           2037408,
           1811015,
           1746997,
           1699347,
           1576185,
           1495880,
           1477383,
           1449829,
           1319542,
           1294871,
           1294208,
           1272164,
           1267067,
           1227016,
           1222942,
           1183705,
           1177514,
           1150217,
           1112350,
           1048702,
           1047624,
           1029564,
           1028272,
           1007855,
           1001076,
           994037,
           975080,
           827667,
           827608,
           805486,
           703228,
           699975,
           671976,
           662858,
           659761,
           640729,
           633801,
           613218,
           597598,
           551283,
           515645,
           507158,
           499306,
           491967,
           470144,
           446008,
           401278,
           399154,
           346297,
           342785,
           338986,
           334101,
           328581,
           314223,
           293386,
           285958,
           274217,
           272485,
           271335,
           266463,
           259981,
           250360,
           231404,
           217944,
           208539,
           208084,
           206588,
           201785,
           187204,
           185708,
           171102,
           170496,
           170279,
           153143,
           138676,
           133078,
           123993,
           116894,
           105905,
           105095,
           95346,
           88900,
           88446,
           87966,
           82020,
           74114,
           72815,
           70555,
           68808,
           67817,
           63725,
           63664,
           63224,
           62577,
           57450,
           52429,
           50355,
           48980,
           47820,
           46663,
           42530,
           39353,
           38224,
           37491,
           34790,
           34008,
           32775,
           29761,
           27989,
           27310,
           25375,
           24575,
           23409,
           23370,
           22676,
           22025,
           21343,
           19680,
           18368,
           17786,
           17186,
           16590,
           16041,
           16022,
           15760,
           15690,
           15554,
           15541,
           15361,
           12586,
           12014,
           11945,
           10189,
           9572,
           9506,
           9106,
           8992,
           8947,
           8043,
           7760,
           7651,
           6585,
           6279,
           5986,
           4991,
           4621,
           2805,
           865,
           712,
           535,
           29,
           11,
           9,
           1
          ],
          "sizemode": "area",
          "sizeref": 40800.0832,
          "symbol": "circle"
         },
         "mode": "markers",
         "name": "",
         "showlegend": false,
         "type": "scattergeo"
        }
       ],
       "layout": {
        "autosize": true,
        "coloraxis": {
         "colorbar": {
          "title": {
           "text": "Confirmed"
          }
         },
         "colorscale": [
          [
           0,
           "#0d0887"
          ],
          [
           0.1111111111111111,
           "#46039f"
          ],
          [
           0.2222222222222222,
           "#7201a8"
          ],
          [
           0.3333333333333333,
           "#9c179e"
          ],
          [
           0.4444444444444444,
           "#bd3786"
          ],
          [
           0.5555555555555556,
           "#d8576b"
          ],
          [
           0.6666666666666666,
           "#ed7953"
          ],
          [
           0.7777777777777778,
           "#fb9f3a"
          ],
          [
           0.8888888888888888,
           "#fdca26"
          ],
          [
           1,
           "#f0f921"
          ]
         ]
        },
        "geo": {
         "center": {},
         "domain": {
          "x": [
           0,
           1
          ],
          "y": [
           0,
           1
          ]
         }
        },
        "legend": {
         "itemsizing": "constant",
         "tracegroupgap": 0
        },
        "margin": {
         "t": 60
        },
        "template": {
         "data": {
          "bar": [
           {
            "error_x": {
             "color": "#f2f5fa"
            },
            "error_y": {
             "color": "#f2f5fa"
            },
            "marker": {
             "line": {
              "color": "rgb(17,17,17)",
              "width": 0.5
             },
             "pattern": {
              "fillmode": "overlay",
              "size": 10,
              "solidity": 0.2
             }
            },
            "type": "bar"
           }
          ],
          "barpolar": [
           {
            "marker": {
             "line": {
              "color": "rgb(17,17,17)",
              "width": 0.5
             },
             "pattern": {
              "fillmode": "overlay",
              "size": 10,
              "solidity": 0.2
             }
            },
            "type": "barpolar"
           }
          ],
          "carpet": [
           {
            "aaxis": {
             "endlinecolor": "#A2B1C6",
             "gridcolor": "#506784",
             "linecolor": "#506784",
             "minorgridcolor": "#506784",
             "startlinecolor": "#A2B1C6"
            },
            "baxis": {
             "endlinecolor": "#A2B1C6",
             "gridcolor": "#506784",
             "linecolor": "#506784",
             "minorgridcolor": "#506784",
             "startlinecolor": "#A2B1C6"
            },
            "type": "carpet"
           }
          ],
          "choropleth": [
           {
            "colorbar": {
             "outlinewidth": 0,
             "ticks": ""
            },
            "type": "choropleth"
           }
          ],
          "contour": [
           {
            "colorbar": {
             "outlinewidth": 0,
             "ticks": ""
            },
            "colorscale": [
             [
              0,
              "#0d0887"
             ],
             [
              0.1111111111111111,
              "#46039f"
             ],
             [
              0.2222222222222222,
              "#7201a8"
             ],
             [
              0.3333333333333333,
              "#9c179e"
             ],
             [
              0.4444444444444444,
              "#bd3786"
             ],
             [
              0.5555555555555556,
              "#d8576b"
             ],
             [
              0.6666666666666666,
              "#ed7953"
             ],
             [
              0.7777777777777778,
              "#fb9f3a"
             ],
             [
              0.8888888888888888,
              "#fdca26"
             ],
             [
              1,
              "#f0f921"
             ]
            ],
            "type": "contour"
           }
          ],
          "contourcarpet": [
           {
            "colorbar": {
             "outlinewidth": 0,
             "ticks": ""
            },
            "type": "contourcarpet"
           }
          ],
          "heatmap": [
           {
            "colorbar": {
             "outlinewidth": 0,
             "ticks": ""
            },
            "colorscale": [
             [
              0,
              "#0d0887"
             ],
             [
              0.1111111111111111,
              "#46039f"
             ],
             [
              0.2222222222222222,
              "#7201a8"
             ],
             [
              0.3333333333333333,
              "#9c179e"
             ],
             [
              0.4444444444444444,
              "#bd3786"
             ],
             [
              0.5555555555555556,
              "#d8576b"
             ],
             [
              0.6666666666666666,
              "#ed7953"
             ],
             [
              0.7777777777777778,
              "#fb9f3a"
             ],
             [
              0.8888888888888888,
              "#fdca26"
             ],
             [
              1,
              "#f0f921"
             ]
            ],
            "type": "heatmap"
           }
          ],
          "heatmapgl": [
           {
            "colorbar": {
             "outlinewidth": 0,
             "ticks": ""
            },
            "colorscale": [
             [
              0,
              "#0d0887"
             ],
             [
              0.1111111111111111,
              "#46039f"
             ],
             [
              0.2222222222222222,
              "#7201a8"
             ],
             [
              0.3333333333333333,
              "#9c179e"
             ],
             [
              0.4444444444444444,
              "#bd3786"
             ],
             [
              0.5555555555555556,
              "#d8576b"
             ],
             [
              0.6666666666666666,
              "#ed7953"
             ],
             [
              0.7777777777777778,
              "#fb9f3a"
             ],
             [
              0.8888888888888888,
              "#fdca26"
             ],
             [
              1,
              "#f0f921"
             ]
            ],
            "type": "heatmapgl"
           }
          ],
          "histogram": [
           {
            "marker": {
             "pattern": {
              "fillmode": "overlay",
              "size": 10,
              "solidity": 0.2
             }
            },
            "type": "histogram"
           }
          ],
          "histogram2d": [
           {
            "colorbar": {
             "outlinewidth": 0,
             "ticks": ""
            },
            "colorscale": [
             [
              0,
              "#0d0887"
             ],
             [
              0.1111111111111111,
              "#46039f"
             ],
             [
              0.2222222222222222,
              "#7201a8"
             ],
             [
              0.3333333333333333,
              "#9c179e"
             ],
             [
              0.4444444444444444,
              "#bd3786"
             ],
             [
              0.5555555555555556,
              "#d8576b"
             ],
             [
              0.6666666666666666,
              "#ed7953"
             ],
             [
              0.7777777777777778,
              "#fb9f3a"
             ],
             [
              0.8888888888888888,
              "#fdca26"
             ],
             [
              1,
              "#f0f921"
             ]
            ],
            "type": "histogram2d"
           }
          ],
          "histogram2dcontour": [
           {
            "colorbar": {
             "outlinewidth": 0,
             "ticks": ""
            },
            "colorscale": [
             [
              0,
              "#0d0887"
             ],
             [
              0.1111111111111111,
              "#46039f"
             ],
             [
              0.2222222222222222,
              "#7201a8"
             ],
             [
              0.3333333333333333,
              "#9c179e"
             ],
             [
              0.4444444444444444,
              "#bd3786"
             ],
             [
              0.5555555555555556,
              "#d8576b"
             ],
             [
              0.6666666666666666,
              "#ed7953"
             ],
             [
              0.7777777777777778,
              "#fb9f3a"
             ],
             [
              0.8888888888888888,
              "#fdca26"
             ],
             [
              1,
              "#f0f921"
             ]
            ],
            "type": "histogram2dcontour"
           }
          ],
          "mesh3d": [
           {
            "colorbar": {
             "outlinewidth": 0,
             "ticks": ""
            },
            "type": "mesh3d"
           }
          ],
          "parcoords": [
           {
            "line": {
             "colorbar": {
              "outlinewidth": 0,
              "ticks": ""
             }
            },
            "type": "parcoords"
           }
          ],
          "pie": [
           {
            "automargin": true,
            "type": "pie"
           }
          ],
          "scatter": [
           {
            "marker": {
             "line": {
              "color": "#283442"
             }
            },
            "type": "scatter"
           }
          ],
          "scatter3d": [
           {
            "line": {
             "colorbar": {
              "outlinewidth": 0,
              "ticks": ""
             }
            },
            "marker": {
             "colorbar": {
              "outlinewidth": 0,
              "ticks": ""
             }
            },
            "type": "scatter3d"
           }
          ],
          "scattercarpet": [
           {
            "marker": {
             "colorbar": {
              "outlinewidth": 0,
              "ticks": ""
             }
            },
            "type": "scattercarpet"
           }
          ],
          "scattergeo": [
           {
            "marker": {
             "colorbar": {
              "outlinewidth": 0,
              "ticks": ""
             }
            },
            "type": "scattergeo"
           }
          ],
          "scattergl": [
           {
            "marker": {
             "line": {
              "color": "#283442"
             }
            },
            "type": "scattergl"
           }
          ],
          "scattermapbox": [
           {
            "marker": {
             "colorbar": {
              "outlinewidth": 0,
              "ticks": ""
             }
            },
            "type": "scattermapbox"
           }
          ],
          "scatterpolar": [
           {
            "marker": {
             "colorbar": {
              "outlinewidth": 0,
              "ticks": ""
             }
            },
            "type": "scatterpolar"
           }
          ],
          "scatterpolargl": [
           {
            "marker": {
             "colorbar": {
              "outlinewidth": 0,
              "ticks": ""
             }
            },
            "type": "scatterpolargl"
           }
          ],
          "scatterternary": [
           {
            "marker": {
             "colorbar": {
              "outlinewidth": 0,
              "ticks": ""
             }
            },
            "type": "scatterternary"
           }
          ],
          "surface": [
           {
            "colorbar": {
             "outlinewidth": 0,
             "ticks": ""
            },
            "colorscale": [
             [
              0,
              "#0d0887"
             ],
             [
              0.1111111111111111,
              "#46039f"
             ],
             [
              0.2222222222222222,
              "#7201a8"
             ],
             [
              0.3333333333333333,
              "#9c179e"
             ],
             [
              0.4444444444444444,
              "#bd3786"
             ],
             [
              0.5555555555555556,
              "#d8576b"
             ],
             [
              0.6666666666666666,
              "#ed7953"
             ],
             [
              0.7777777777777778,
              "#fb9f3a"
             ],
             [
              0.8888888888888888,
              "#fdca26"
             ],
             [
              1,
              "#f0f921"
             ]
            ],
            "type": "surface"
           }
          ],
          "table": [
           {
            "cells": {
             "fill": {
              "color": "#506784"
             },
             "line": {
              "color": "rgb(17,17,17)"
             }
            },
            "header": {
             "fill": {
              "color": "#2a3f5f"
             },
             "line": {
              "color": "rgb(17,17,17)"
             }
            },
            "type": "table"
           }
          ]
         },
         "layout": {
          "annotationdefaults": {
           "arrowcolor": "#f2f5fa",
           "arrowhead": 0,
           "arrowwidth": 1
          },
          "autotypenumbers": "strict",
          "coloraxis": {
           "colorbar": {
            "outlinewidth": 0,
            "ticks": ""
           }
          },
          "colorscale": {
           "diverging": [
            [
             0,
             "#8e0152"
            ],
            [
             0.1,
             "#c51b7d"
            ],
            [
             0.2,
             "#de77ae"
            ],
            [
             0.3,
             "#f1b6da"
            ],
            [
             0.4,
             "#fde0ef"
            ],
            [
             0.5,
             "#f7f7f7"
            ],
            [
             0.6,
             "#e6f5d0"
            ],
            [
             0.7,
             "#b8e186"
            ],
            [
             0.8,
             "#7fbc41"
            ],
            [
             0.9,
             "#4d9221"
            ],
            [
             1,
             "#276419"
            ]
           ],
           "sequential": [
            [
             0,
             "#0d0887"
            ],
            [
             0.1111111111111111,
             "#46039f"
            ],
            [
             0.2222222222222222,
             "#7201a8"
            ],
            [
             0.3333333333333333,
             "#9c179e"
            ],
            [
             0.4444444444444444,
             "#bd3786"
            ],
            [
             0.5555555555555556,
             "#d8576b"
            ],
            [
             0.6666666666666666,
             "#ed7953"
            ],
            [
             0.7777777777777778,
             "#fb9f3a"
            ],
            [
             0.8888888888888888,
             "#fdca26"
            ],
            [
             1,
             "#f0f921"
            ]
           ],
           "sequentialminus": [
            [
             0,
             "#0d0887"
            ],
            [
             0.1111111111111111,
             "#46039f"
            ],
            [
             0.2222222222222222,
             "#7201a8"
            ],
            [
             0.3333333333333333,
             "#9c179e"
            ],
            [
             0.4444444444444444,
             "#bd3786"
            ],
            [
             0.5555555555555556,
             "#d8576b"
            ],
            [
             0.6666666666666666,
             "#ed7953"
            ],
            [
             0.7777777777777778,
             "#fb9f3a"
            ],
            [
             0.8888888888888888,
             "#fdca26"
            ],
            [
             1,
             "#f0f921"
            ]
           ]
          },
          "colorway": [
           "#636efa",
           "#EF553B",
           "#00cc96",
           "#ab63fa",
           "#FFA15A",
           "#19d3f3",
           "#FF6692",
           "#B6E880",
           "#FF97FF",
           "#FECB52"
          ],
          "font": {
           "color": "#f2f5fa"
          },
          "geo": {
           "bgcolor": "rgb(17,17,17)",
           "lakecolor": "rgb(17,17,17)",
           "landcolor": "rgb(17,17,17)",
           "showlakes": true,
           "showland": true,
           "subunitcolor": "#506784"
          },
          "hoverlabel": {
           "align": "left"
          },
          "hovermode": "closest",
          "mapbox": {
           "style": "dark"
          },
          "paper_bgcolor": "rgb(17,17,17)",
          "plot_bgcolor": "rgb(17,17,17)",
          "polar": {
           "angularaxis": {
            "gridcolor": "#506784",
            "linecolor": "#506784",
            "ticks": ""
           },
           "bgcolor": "rgb(17,17,17)",
           "radialaxis": {
            "gridcolor": "#506784",
            "linecolor": "#506784",
            "ticks": ""
           }
          },
          "scene": {
           "xaxis": {
            "backgroundcolor": "rgb(17,17,17)",
            "gridcolor": "#506784",
            "gridwidth": 2,
            "linecolor": "#506784",
            "showbackground": true,
            "ticks": "",
            "zerolinecolor": "#C8D4E3"
           },
           "yaxis": {
            "backgroundcolor": "rgb(17,17,17)",
            "gridcolor": "#506784",
            "gridwidth": 2,
            "linecolor": "#506784",
            "showbackground": true,
            "ticks": "",
            "zerolinecolor": "#C8D4E3"
           },
           "zaxis": {
            "backgroundcolor": "rgb(17,17,17)",
            "gridcolor": "#506784",
            "gridwidth": 2,
            "linecolor": "#506784",
            "showbackground": true,
            "ticks": "",
            "zerolinecolor": "#C8D4E3"
           }
          },
          "shapedefaults": {
           "line": {
            "color": "#f2f5fa"
           }
          },
          "sliderdefaults": {
           "bgcolor": "#C8D4E3",
           "bordercolor": "rgb(17,17,17)",
           "borderwidth": 1,
           "tickwidth": 0
          },
          "ternary": {
           "aaxis": {
            "gridcolor": "#506784",
            "linecolor": "#506784",
            "ticks": ""
           },
           "baxis": {
            "gridcolor": "#506784",
            "linecolor": "#506784",
            "ticks": ""
           },
           "bgcolor": "rgb(17,17,17)",
           "caxis": {
            "gridcolor": "#506784",
            "linecolor": "#506784",
            "ticks": ""
           }
          },
          "title": {
           "x": 0.05
          },
          "updatemenudefaults": {
           "bgcolor": "#506784",
           "borderwidth": 0
          },
          "xaxis": {
           "automargin": true,
           "gridcolor": "#283442",
           "linecolor": "#506784",
           "ticks": "",
           "title": {
            "standoff": 15
           },
           "zerolinecolor": "#283442",
           "zerolinewidth": 2
          },
          "yaxis": {
           "automargin": true,
           "gridcolor": "#283442",
           "linecolor": "#506784",
           "ticks": "",
           "title": {
            "standoff": 15
           },
           "zerolinecolor": "#283442",
           "zerolinewidth": 2
          }
         }
        }
       }
      },
      "image/png": "[encoded data removed]",
      "text/html": [
       "<div>                            <div id=\"a4a94c4b-230c-48ae-84d5-c1b959bf806f\" class=\"plotly-graph-div\" style=\"height:525px; width:100%;\"></div>            <script type=\"text/javascript\">                require([\"plotly\"], function(Plotly) {                    window.PLOTLYENV=window.PLOTLYENV || {};                                    if (document.getElementById(\"a4a94c4b-230c-48ae-84d5-c1b959bf806f\")) {                    Plotly.newPlot(                        \"a4a94c4b-230c-48ae-84d5-c1b959bf806f\",                        [{\"customdata\":[[102000208,1104191,0.0,\"US\"],[44683239,530735,0.0,\"India\"],[39681509,164793,0.0,\"France\"],[37668384,164703,0.0,\"Germany\"],[36718053,696257,0.0,\"Brazil\"],[32067470,65377,0.0,\"Japan\"],[30008756,33235,0.0,\"Korea, South\"],[25415630,186488,0.0,\"Italy\"],[24492024,219432,0.0,\"United Kingdom\"],[21585328,386748,0.0,\"Russia\"],[17042722,101492,0.0,\"Turkey\"],[13722677,118183,0.0,\"Spain\"],[11526329,43186,0.0,\"Vietnam\"],[11274262,18092,0.0,\"Australia\"],[10024095,130338,0.0,\"Argentina\"],[9342958,16098,0.0,\"Taiwan*\"],[8692332,23704,0.0,\"Netherlands\"],[7563385,144735,0.0,\"Iran\"],[7342277,331881,0.0,\"Mexico\"],[6728065,160781,0.0,\"Indonesia\"],[6375463,118681,0.0,\"Poland\"],[6348356,142085,0.0,\"Colombia\"],[5755617,21626,0.0,\"Austria\"],[5675861,118924,0.0,\"Ukraine\"],[5562214,25942,0.0,\"Portugal\"],[5548487,34779,0.0,\"Greece\"],[5103912,63667,0.0,\"Chile\"],[5034830,36932,0.0,\"Malaysia\"],[4885426,91061,0.0,\"China\"],[4780946,12148,0.0,\"Israel\"],[4725885,33792,0.0,\"Thailand\"],[4688927,33525,0.0,\"Belgium\"],[4586781,42280,0.0,\"Czechia\"],[4551279,50248,0.0,\"Canada\"],[4478971,218649,0.0,\"Peru\"],[4406243,14243,0.0,\"Switzerland\"],[4071963,65694,0.0,\"Philippines\"],[4054160,102588,0.0,\"South Africa\"],[3444735,8121,0.0,\"Denmark\"],[3319680,67504,0.0,\"Romania\"],[2690473,23020,0.0,\"Sweden\"],[2659881,20906,0.0,\"Slovakia\"],[2465545,25375,0.0,\"Iraq\"],[2464913,17654,0.0,\"Serbia\"],[2214234,1720,0.0,\"Singapore\"],[2191200,48629,0.0,\"Hungary\"],[2165651,2439,0.0,\"New Zealand\"],[2037408,29441,0.0,\"Bangladesh\"],[1811015,16909,0.0,\"Georgia\"],[1746997,14122,0.0,\"Jordan\"],[1699347,8431,0.0,\"Ireland\"],[1576185,30640,0.0,\"Pakistan\"],[1495880,19065,0.0,\"Kazakhstan\"],[1477383,5036,0.0,\"Norway\"],[1449829,8557,0.0,\"Finland\"],[1319542,7045,0.0,\"Slovenia\"],[1294871,38163,0.0,\"Bulgaria\"],[1294208,9526,0.0,\"Lithuania\"],[1272164,16296,0.0,\"Morocco\"],[1267067,17815,0.0,\"Croatia\"],[1227016,10775,0.0,\"Lebanon\"],[1222942,20074,0.0,\"Guatemala\"],[1183705,22342,0.0,\"Bolivia\"],[1177514,9123,0.0,\"Costa Rica\"],[1150217,29291,0.0,\"Tunisia\"],[1112350,8530,0.0,\"Cuba\"],[1048702,2348,0.0,\"United Arab Emirates\"],[1047624,35940,0.0,\"Ecuador\"],[1029564,7597,0.0,\"Uruguay\"],[1028272,8589,0.0,\"Panama\"],[1007855,2136,0.0,\"Mongolia\"],[1001076,12020,0.0,\"Nepal\"],[994037,7118,0.0,\"Belarus\"],[975080,6206,0.0,\"Latvia\"],[827667,10068,0.0,\"Azerbaijan\"],[827608,9557,0.0,\"Saudi Arabia\"],[805486,19778,0.0,\"Paraguay\"],[703228,5708,0.0,\"West Bank and Gaza\"],[699975,1541,0.0,\"Bahrain\"],[671976,16825,0.0,\"Sri Lanka\"],[662858,2570,0.0,\"Kuwait\"],[659761,4384,0.0,\"Dominican Republic\"],[640729,1280,0.0,\"Cyprus\"],[633801,19490,0.0,\"Burma\"],[613218,2896,0.0,\"Estonia\"],[597598,11947,0.0,\"Moldova\"],[551283,5840,0.0,\"Venezuela\"],[515645,24805,0.0,\"Egypt\"],[507158,6437,0.0,\"Libya\"],[499306,7572,0.0,\"Ethiopia\"],[491967,686,0.0,\"Qatar\"],[470144,11099,0.0,\"Honduras\"],[446008,8717,0.0,\"Armenia\"],[401278,16248,0.0,\"Bosnia and Herzegovina\"],[399154,4628,0.0,\"Oman\"],[346297,9633,0.0,\"North Macedonia\"],[342785,5688,0.0,\"Kenya\"],[338986,4039,0.0,\"Zambia\"],[334101,3596,0.0,\"Albania\"],[328581,2795,0.0,\"Botswana\"],[314223,1204,0.0,\"Luxembourg\"],[293386,1042,0.0,\"Mauritius\"],[285958,2795,0.0,\"Montenegro\"],[274217,225,0.0,\"Brunei\"],[272485,3202,0.0,\"Kosovo\"],[271335,6881,0.0,\"Algeria\"],[266463,3155,0.0,\"Nigeria\"],[259981,5637,0.0,\"Zimbabwe\"],[250360,1637,0.0,\"Uzbekistan\"],[231404,2232,0.0,\"Mozambique\"],[217944,758,0.0,\"Laos\"],[208539,238,0.0,\"Iceland\"],[208084,7864,0.0,\"Afghanistan\"],[206588,2991,0.0,\"Kyrgyzstan\"],[201785,4230,0.0,\"El Salvador\"],[187204,4309,0.0,\"Trinidad and Tobago\"],[185708,311,0.0,\"Maldives\"],[171102,1462,0.0,\"Ghana\"],[170496,4083,0.0,\"Namibia\"],[170279,3630,0.0,\"Uganda\"],[153143,3476,0.0,\"Jamaica\"],[138676,3056,0.0,\"Cambodia\"],[133078,1468,0.0,\"Rwanda\"],[123993,1965,0.0,\"Cameroon\"],[116894,823,0.0,\"Malta\"],[105905,569,0.0,\"Barbados\"],[105095,1930,0.0,\"Angola\"],[95346,1463,0.0,\"Congo (Kinshasa)\"],[88900,1968,0.0,\"Senegal\"],[88446,2686,0.0,\"Malawi\"],[87966,833,0.0,\"Cote d'Ivoire\"],[82020,1398,0.0,\"Suriname\"],[74114,1422,0.0,\"Eswatini\"],[72815,1293,0.0,\"Guyana\"],[70555,688,0.0,\"Belize\"],[68808,883,0.0,\"Fiji\"],[67817,1419,0.0,\"Madagascar\"],[63725,5001,0.0,\"Sudan\"],[63664,997,0.0,\"Mauritania\"],[63224,412,0.0,\"Cabo Verde\"],[62577,21,0.0,\"Bhutan\"],[57450,3164,0.0,\"Syria\"],[52429,38,0.0,\"Burundi\"],[50355,172,0.0,\"Seychelles\"],[48980,306,0.0,\"Gabon\"],[47820,165,0.0,\"Andorra\"],[46663,669,0.0,\"Papua New Guinea\"],[42530,846,0.0,\"Tanzania\"],[39353,290,0.0,\"Togo\"],[38224,467,0.0,\"Guinea\"],[37491,833,0.0,\"Bahamas\"],[34790,723,0.0,\"Lesotho\"],[34008,860,0.0,\"Haiti\"],[32775,743,0.0,\"Mali\"],[29761,409,0.0,\"Saint Lucia\"],[27989,163,0.0,\"Benin\"],[27310,1361,0.0,\"Somalia\"],[25375,386,0.0,\"Congo (Brazzaville)\"],[24575,153,0.0,\"Solomon Islands\"],[23409,138,0.0,\"Timor-Leste\"],[23370,122,0.0,\"San Marino\"],[22676,58,0.0,\"Micronesia\"],[22025,396,0.0,\"Burkina Faso\"],[21343,89,0.0,\"Liechtenstein\"],[19680,238,0.0,\"Grenada\"],[18368,138,0.0,\"South Sudan\"],[17786,125,0.0,\"Tajikistan\"],[17186,183,0.0,\"Equatorial Guinea\"],[16590,13,0.0,\"Tonga\"],[16041,65,0.0,\"Monaco\"],[16022,29,0.0,\"Samoa\"],[15760,74,0.0,\"Dominica\"],[15690,189,0.0,\"Djibouti\"],[15554,17,0.0,\"Marshall Islands\"],[15541,245,0.0,\"Nicaragua\"],[15361,113,0.0,\"Central African Republic\"],[12586,372,0.0,\"Gambia\"],[12014,14,0.0,\"Vanuatu\"],[11945,2159,0.0,\"Yemen\"],[10189,103,0.0,\"Eritrea\"],[9572,123,0.0,\"Saint Vincent and the Grenadines\"],[9506,315,0.0,\"Niger\"],[9106,146,0.0,\"Antigua and Barbuda\"],[8992,161,0.0,\"Comoros\"],[8947,176,0.0,\"Guinea-Bissau\"],[8043,294,0.0,\"Liberia\"],[7760,126,0.0,\"Sierra Leone\"],[7651,194,0.0,\"Chad\"],[6585,46,0.0,\"Saint Kitts and Nevis\"],[6279,77,0.0,\"Sao Tome and Principe\"],[5986,9,0.0,\"Palau\"],[4991,18,0.0,\"Kiribati\"],[4621,1,0.0,\"Nauru\"],[2805,0,0.0,\"Tuvalu\"],[865,0,0.0,\"Summer Olympics 2020\"],[712,13,0.0,\"Diamond Princess\"],[535,0,0.0,\"Winter Olympics 2022\"],[29,0,0.0,\"Holy See\"],[11,0,0.0,\"Antarctica\"],[9,2,0.0,\"MS Zaandam\"],[1,6,0.0,\"Korea, North\"]],\"geo\":\"geo\",\"hovertemplate\":\"\\u003cb\\u003e%{hovertext}\\u003c\\u002fb\\u003e\\u003cbr\\u003e\\u003cbr\\u003eConfirmed=%{marker.color:,.0f}\\u003cbr\\u003eDeaths=%{customdata[1]:,.0f}\\u003cbr\\u003eRecovered=%{customdata[2]:,.0f}\\u003cextra\\u003e\\u003c\\u002fextra\\u003e\",\"hovertext\":[\"US\",\"India\",\"France\",\"Germany\",\"Brazil\",\"Japan\",\"Korea, South\",\"Italy\",\"United Kingdom\",\"Russia\",\"Turkey\",\"Spain\",\"Vietnam\",\"Australia\",\"Argentina\",\"Taiwan*\",\"Netherlands\",\"Iran\",\"Mexico\",\"Indonesia\",\"Poland\",\"Colombia\",\"Austria\",\"Ukraine\",\"Portugal\",\"Greece\",\"Chile\",\"Malaysia\",\"China\",\"Israel\",\"Thailand\",\"Belgium\",\"Czechia\",\"Canada\",\"Peru\",\"Switzerland\",\"Philippines\",\"South Africa\",\"Denmark\",\"Romania\",\"Sweden\",\"Slovakia\",\"Iraq\",\"Serbia\",\"Singapore\",\"Hungary\",\"New Zealand\",\"Bangladesh\",\"Georgia\",\"Jordan\",\"Ireland\",\"Pakistan\",\"Kazakhstan\",\"Norway\",\"Finland\",\"Slovenia\",\"Bulgaria\",\"Lithuania\",\"Morocco\",\"Croatia\",\"Lebanon\",\"Guatemala\",\"Bolivia\",\"Costa Rica\",\"Tunisia\",\"Cuba\",\"United Arab Emirates\",\"Ecuador\",\"Uruguay\",\"Panama\",\"Mongolia\",\"Nepal\",\"Belarus\",\"Latvia\",\"Azerbaijan\",\"Saudi Arabia\",\"Paraguay\",\"West Bank and Gaza\",\"Bahrain\",\"Sri Lanka\",\"Kuwait\",\"Dominican Republic\",\"Cyprus\",\"Burma\",\"Estonia\",\"Moldova\",\"Venezuela\",\"Egypt\",\"Libya\",\"Ethiopia\",\"Qatar\",\"Honduras\",\"Armenia\",\"Bosnia and Herzegovina\",\"Oman\",\"North Macedonia\",\"Kenya\",\"Zambia\",\"Albania\",\"Botswana\",\"Luxembourg\",\"Mauritius\",\"Montenegro\",\"Brunei\",\"Kosovo\",\"Algeria\",\"Nigeria\",\"Zimbabwe\",\"Uzbekistan\",\"Mozambique\",\"Laos\",\"Iceland\",\"Afghanistan\",\"Kyrgyzstan\",\"El Salvador\",\"Trinidad and Tobago\",\"Maldives\",\"Ghana\",\"Namibia\",\"Uganda\",\"Jamaica\",\"Cambodia\",\"Rwanda\",\"Cameroon\",\"Malta\",\"Barbados\",\"Angola\",\"Congo (Kinshasa)\",\"Senegal\",\"Malawi\",\"Cote d'Ivoire\",\"Suriname\",\"Eswatini\",\"Guyana\",\"Belize\",\"Fiji\",\"Madagascar\",\"Sudan\",\"Mauritania\",\"Cabo Verde\",\"Bhutan\",\"Syria\",\"Burundi\",\"Seychelles\",\"Gabon\",\"Andorra\",\"Papua New Guinea\",\"Tanzania\",\"Togo\",\"Guinea\",\"Bahamas\",\"Lesotho\",\"Haiti\",\"Mali\",\"Saint Lucia\",\"Benin\",\"Somalia\",\"Congo (Brazzaville)\",\"Solomon Islands\",\"Timor-Leste\",\"San Marino\",\"Micronesia\",\"Burkina Faso\",\"Liechtenstein\",\"Grenada\",\"South Sudan\",\"Tajikistan\",\"Equatorial Guinea\",\"Tonga\",\"Monaco\",\"Samoa\",\"Dominica\",\"Djibouti\",\"Marshall Islands\",\"Nicaragua\",\"Central African Republic\",\"Gambia\",\"Vanuatu\",\"Yemen\",\"Eritrea\",\"Saint Vincent and the Grenadines\",\"Niger\",\"Antigua and Barbuda\",\"Comoros\",\"Guinea-Bissau\",\"Liberia\",\"Sierra Leone\",\"Chad\",\"Saint Kitts and Nevis\",\"Sao Tome and Principe\",\"Palau\",\"Kiribati\",\"Nauru\",\"Tuvalu\",\"Summer Olympics 2020\",\"Diamond Princess\",\"Winter Olympics 2022\",\"Holy See\",\"Antarctica\",\"MS Zaandam\",\"Korea, North\"],\"legendgroup\":\"\",\"locationmode\":\"country names\",\"locations\":[\"US\",\"India\",\"France\",\"Germany\",\"Brazil\",\"Japan\",\"Korea, South\",\"Italy\",\"United Kingdom\",\"Russia\",\"Turkey\",\"Spain\",\"Vietnam\",\"Australia\",\"Argentina\",\"Taiwan*\",\"Netherlands\",\"Iran\",\"Mexico\",\"Indonesia\",\"Poland\",\"Colombia\",\"Austria\",\"Ukraine\",\"Portugal\",\"Greece\",\"Chile\",\"Malaysia\",\"China\",\"Israel\",\"Thailand\",\"Belgium\",\"Czechia\",\"Canada\",\"Peru\",\"Switzerland\",\"Philippines\",\"South Africa\",\"Denmark\",\"Romania\",\"Sweden\",\"Slovakia\",\"Iraq\",\"Serbia\",\"Singapore\",\"Hungary\",\"New Zealand\",\"Bangladesh\",\"Georgia\",\"Jordan\",\"Ireland\",\"Pakistan\",\"Kazakhstan\",\"Norway\",\"Finland\",\"Slovenia\",\"Bulgaria\",\"Lithuania\",\"Morocco\",\"Croatia\",\"Lebanon\",\"Guatemala\",\"Bolivia\",\"Costa Rica\",\"Tunisia\",\"Cuba\",\"United Arab Emirates\",\"Ecuador\",\"Uruguay\",\"Panama\",\"Mongolia\",\"Nepal\",\"Belarus\",\"Latvia\",\"Azerbaijan\",\"Saudi Arabia\",\"Paraguay\",\"West Bank and Gaza\",\"Bahrain\",\"Sri Lanka\",\"Kuwait\",\"Dominican Republic\",\"Cyprus\",\"Burma\",\"Estonia\",\"Moldova\",\"Venezuela\",\"Egypt\",\"Libya\",\"Ethiopia\",\"Qatar\",\"Honduras\",\"Armenia\",\"Bosnia and Herzegovina\",\"Oman\",\"North Macedonia\",\"Kenya\",\"Zambia\",\"Albania\",\"Botswana\",\"Luxembourg\",\"Mauritius\",\"Montenegro\",\"Brunei\",\"Kosovo\",\"Algeria\",\"Nigeria\",\"Zimbabwe\",\"Uzbekistan\",\"Mozambique\",\"Laos\",\"Iceland\",\"Afghanistan\",\"Kyrgyzstan\",\"El Salvador\",\"Trinidad and Tobago\",\"Maldives\",\"Ghana\",\"Namibia\",\"Uganda\",\"Jamaica\",\"Cambodia\",\"Rwanda\",\"Cameroon\",\"Malta\",\"Barbados\",\"Angola\",\"Congo (Kinshasa)\",\"Senegal\",\"Malawi\",\"Cote d'Ivoire\",\"Suriname\",\"Eswatini\",\"Guyana\",\"Belize\",\"Fiji\",\"Madagascar\",\"Sudan\",\"Mauritania\",\"Cabo Verde\",\"Bhutan\",\"Syria\",\"Burundi\",\"Seychelles\",\"Gabon\",\"Andorra\",\"Papua New Guinea\",\"Tanzania\",\"Togo\",\"Guinea\",\"Bahamas\",\"Lesotho\",\"Haiti\",\"Mali\",\"Saint Lucia\",\"Benin\",\"Somalia\",\"Congo (Brazzaville)\",\"Solomon Islands\",\"Timor-Leste\",\"San Marino\",\"Micronesia\",\"Burkina Faso\",\"Liechtenstein\",\"Grenada\",\"South Sudan\",\"Tajikistan\",\"Equatorial Guinea\",\"Tonga\",\"Monaco\",\"Samoa\",\"Dominica\",\"Djibouti\",\"Marshall Islands\",\"Nicaragua\",\"Central African Republic\",\"Gambia\",\"Vanuatu\",\"Yemen\",\"Eritrea\",\"Saint Vincent and the Grenadines\",\"Niger\",\"Antigua and Barbuda\",\"Comoros\",\"Guinea-Bissau\",\"Liberia\",\"Sierra Leone\",\"Chad\",\"Saint Kitts and Nevis\",\"Sao Tome and Principe\",\"Palau\",\"Kiribati\",\"Nauru\",\"Tuvalu\",\"Summer Olympics 2020\",\"Diamond Princess\",\"Winter Olympics 2022\",\"Holy See\",\"Antarctica\",\"MS Zaandam\",\"Korea, North\"],\"marker\":{\"color\":[102000208,44683239,39681509,37668384,36718053,32067470,30008756,25415630,24492024,21585328,17042722,13722677,11526329,11274262,10024095,9342958,8692332,7563385,7342277,6728065,6375463,6348356,5755617,5675861,5562214,5548487,5103912,5034830,4885426,4780946,4725885,4688927,4586781,4551279,4478971,4406243,4071963,4054160,3444735,3319680,2690473,2659881,2465545,2464913,2214234,2191200,2165651,2037408,1811015,1746997,1699347,1576185,1495880,1477383,1449829,1319542,1294871,1294208,1272164,1267067,1227016,1222942,1183705,1177514,1150217,1112350,1048702,1047624,1029564,1028272,1007855,1001076,994037,975080,827667,827608,805486,703228,699975,671976,662858,659761,640729,633801,613218,597598,551283,515645,507158,499306,491967,470144,446008,401278,399154,346297,342785,338986,334101,328581,314223,293386,285958,274217,272485,271335,266463,259981,250360,231404,217944,208539,208084,206588,201785,187204,185708,171102,170496,170279,153143,138676,133078,123993,116894,105905,105095,95346,88900,88446,87966,82020,74114,72815,70555,68808,67817,63725,63664,63224,62577,57450,52429,50355,48980,47820,46663,42530,39353,38224,37491,34790,34008,32775,29761,27989,27310,25375,24575,23409,23370,22676,22025,21343,19680,18368,17786,17186,16590,16041,16022,15760,15690,15554,15541,15361,12586,12014,11945,10189,9572,9506,9106,8992,8947,8043,7760,7651,6585,6279,5986,4991,4621,2805,865,712,535,29,11,9,1],\"coloraxis\":\"coloraxis\",\"size\":[102000208,44683239,39681509,37668384,36718053,32067470,30008756,25415630,24492024,21585328,17042722,13722677,11526329,11274262,10024095,9342958,8692332,7563385,7342277,6728065,6375463,6348356,5755617,5675861,5562214,5548487,5103912,5034830,4885426,4780946,4725885,4688927,4586781,4551279,4478971,4406243,4071963,4054160,3444735,3319680,2690473,2659881,2465545,2464913,2214234,2191200,2165651,2037408,1811015,1746997,1699347,1576185,1495880,1477383,1449829,1319542,1294871,1294208,1272164,1267067,1227016,1222942,1183705,1177514,1150217,1112350,1048702,1047624,1029564,1028272,1007855,1001076,994037,975080,827667,827608,805486,703228,699975,671976,662858,659761,640729,633801,613218,597598,551283,515645,507158,499306,491967,470144,446008,401278,399154,346297,342785,338986,334101,328581,314223,293386,285958,274217,272485,271335,266463,259981,250360,231404,217944,208539,208084,206588,201785,187204,185708,171102,170496,170279,153143,138676,133078,123993,116894,105905,105095,95346,88900,88446,87966,82020,74114,72815,70555,68808,67817,63725,63664,63224,62577,57450,52429,50355,48980,47820,46663,42530,39353,38224,37491,34790,34008,32775,29761,27989,27310,25375,24575,23409,23370,22676,22025,21343,19680,18368,17786,17186,16590,16041,16022,15760,15690,15554,15541,15361,12586,12014,11945,10189,9572,9506,9106,8992,8947,8043,7760,7651,6585,6279,5986,4991,4621,2805,865,712,535,29,11,9,1],\"sizemode\":\"area\",\"sizeref\":40800.0832,\"symbol\":\"circle\"},\"mode\":\"markers\",\"name\":\"\",\"showlegend\":false,\"type\":\"scattergeo\"}],                        {\"template\":{\"data\":{\"barpolar\":[{\"marker\":{\"line\":{\"color\":\"rgb(17,17,17)\",\"width\":0.5},\"pattern\":{\"fillmode\":\"overlay\",\"size\":10,\"solidity\":0.2}},\"type\":\"barpolar\"}],\"bar\":[{\"error_x\":{\"color\":\"#f2f5fa\"},\"error_y\":{\"color\":\"#f2f5fa\"},\"marker\":{\"line\":{\"color\":\"rgb(17,17,17)\",\"width\":0.5},\"pattern\":{\"fillmode\":\"overlay\",\"size\":10,\"solidity\":0.2}},\"type\":\"bar\"}],\"carpet\":[{\"aaxis\":{\"endlinecolor\":\"#A2B1C6\",\"gridcolor\":\"#506784\",\"linecolor\":\"#506784\",\"minorgridcolor\":\"#506784\",\"startlinecolor\":\"#A2B1C6\"},\"baxis\":{\"endlinecolor\":\"#A2B1C6\",\"gridcolor\":\"#506784\",\"linecolor\":\"#506784\",\"minorgridcolor\":\"#506784\",\"startlinecolor\":\"#A2B1C6\"},\"type\":\"carpet\"}],\"choropleth\":[{\"colorbar\":{\"outlinewidth\":0,\"ticks\":\"\"},\"type\":\"choropleth\"}],\"contourcarpet\":[{\"colorbar\":{\"outlinewidth\":0,\"ticks\":\"\"},\"type\":\"contourcarpet\"}],\"contour\":[{\"colorbar\":{\"outlinewidth\":0,\"ticks\":\"\"},\"colorscale\":[[0.0,\"#0d0887\"],[0.1111111111111111,\"#46039f\"],[0.2222222222222222,\"#7201a8\"],[0.3333333333333333,\"#9c179e\"],[0.4444444444444444,\"#bd3786\"],[0.5555555555555556,\"#d8576b\"],[0.6666666666666666,\"#ed7953\"],[0.7777777777777778,\"#fb9f3a\"],[0.8888888888888888,\"#fdca26\"],[1.0,\"#f0f921\"]],\"type\":\"contour\"}],\"heatmapgl\":[{\"colorbar\":{\"outlinewidth\":0,\"ticks\":\"\"},\"colorscale\":[[0.0,\"#0d0887\"],[0.1111111111111111,\"#46039f\"],[0.2222222222222222,\"#7201a8\"],[0.3333333333333333,\"#9c179e\"],[0.4444444444444444,\"#bd3786\"],[0.5555555555555556,\"#d8576b\"],[0.6666666666666666,\"#ed7953\"],[0.7777777777777778,\"#fb9f3a\"],[0.8888888888888888,\"#fdca26\"],[1.0,\"#f0f921\"]],\"type\":\"heatmapgl\"}],\"heatmap\":[{\"colorbar\":{\"outlinewidth\":0,\"ticks\":\"\"},\"colorscale\":[[0.0,\"#0d0887\"],[0.1111111111111111,\"#46039f\"],[0.2222222222222222,\"#7201a8\"],[0.3333333333333333,\"#9c179e\"],[0.4444444444444444,\"#bd3786\"],[0.5555555555555556,\"#d8576b\"],[0.6666666666666666,\"#ed7953\"],[0.7777777777777778,\"#fb9f3a\"],[0.8888888888888888,\"#fdca26\"],[1.0,\"#f0f921\"]],\"type\":\"heatmap\"}],\"histogram2dcontour\":[{\"colorbar\":{\"outlinewidth\":0,\"ticks\":\"\"},\"colorscale\":[[0.0,\"#0d0887\"],[0.1111111111111111,\"#46039f\"],[0.2222222222222222,\"#7201a8\"],[0.3333333333333333,\"#9c179e\"],[0.4444444444444444,\"#bd3786\"],[0.5555555555555556,\"#d8576b\"],[0.6666666666666666,\"#ed7953\"],[0.7777777777777778,\"#fb9f3a\"],[0.8888888888888888,\"#fdca26\"],[1.0,\"#f0f921\"]],\"type\":\"histogram2dcontour\"}],\"histogram2d\":[{\"colorbar\":{\"outlinewidth\":0,\"ticks\":\"\"},\"colorscale\":[[0.0,\"#0d0887\"],[0.1111111111111111,\"#46039f\"],[0.2222222222222222,\"#7201a8\"],[0.3333333333333333,\"#9c179e\"],[0.4444444444444444,\"#bd3786\"],[0.5555555555555556,\"#d8576b\"],[0.6666666666666666,\"#ed7953\"],[0.7777777777777778,\"#fb9f3a\"],[0.8888888888888888,\"#fdca26\"],[1.0,\"#f0f921\"]],\"type\":\"histogram2d\"}],\"histogram\":[{\"marker\":{\"pattern\":{\"fillmode\":\"overlay\",\"size\":10,\"solidity\":0.2}},\"type\":\"histogram\"}],\"mesh3d\":[{\"colorbar\":{\"outlinewidth\":0,\"ticks\":\"\"},\"type\":\"mesh3d\"}],\"parcoords\":[{\"line\":{\"colorbar\":{\"outlinewidth\":0,\"ticks\":\"\"}},\"type\":\"parcoords\"}],\"pie\":[{\"automargin\":true,\"type\":\"pie\"}],\"scatter3d\":[{\"line\":{\"colorbar\":{\"outlinewidth\":0,\"ticks\":\"\"}},\"marker\":{\"colorbar\":{\"outlinewidth\":0,\"ticks\":\"\"}},\"type\":\"scatter3d\"}],\"scattercarpet\":[{\"marker\":{\"colorbar\":{\"outlinewidth\":0,\"ticks\":\"\"}},\"type\":\"scattercarpet\"}],\"scattergeo\":[{\"marker\":{\"colorbar\":{\"outlinewidth\":0,\"ticks\":\"\"}},\"type\":\"scattergeo\"}],\"scattergl\":[{\"marker\":{\"line\":{\"color\":\"#283442\"}},\"type\":\"scattergl\"}],\"scattermapbox\":[{\"marker\":{\"colorbar\":{\"outlinewidth\":0,\"ticks\":\"\"}},\"type\":\"scattermapbox\"}],\"scatterpolargl\":[{\"marker\":{\"colorbar\":{\"outlinewidth\":0,\"ticks\":\"\"}},\"type\":\"scatterpolargl\"}],\"scatterpolar\":[{\"marker\":{\"colorbar\":{\"outlinewidth\":0,\"ticks\":\"\"}},\"type\":\"scatterpolar\"}],\"scatter\":[{\"marker\":{\"line\":{\"color\":\"#283442\"}},\"type\":\"scatter\"}],\"scatterternary\":[{\"marker\":{\"colorbar\":{\"outlinewidth\":0,\"ticks\":\"\"}},\"type\":\"scatterternary\"}],\"surface\":[{\"colorbar\":{\"outlinewidth\":0,\"ticks\":\"\"},\"colorscale\":[[0.0,\"#0d0887\"],[0.1111111111111111,\"#46039f\"],[0.2222222222222222,\"#7201a8\"],[0.3333333333333333,\"#9c179e\"],[0.4444444444444444,\"#bd3786\"],[0.5555555555555556,\"#d8576b\"],[0.6666666666666666,\"#ed7953\"],[0.7777777777777778,\"#fb9f3a\"],[0.8888888888888888,\"#fdca26\"],[1.0,\"#f0f921\"]],\"type\":\"surface\"}],\"table\":[{\"cells\":{\"fill\":{\"color\":\"#506784\"},\"line\":{\"color\":\"rgb(17,17,17)\"}},\"header\":{\"fill\":{\"color\":\"#2a3f5f\"},\"line\":{\"color\":\"rgb(17,17,17)\"}},\"type\":\"table\"}]},\"layout\":{\"annotationdefaults\":{\"arrowcolor\":\"#f2f5fa\",\"arrowhead\":0,\"arrowwidth\":1},\"autotypenumbers\":\"strict\",\"coloraxis\":{\"colorbar\":{\"outlinewidth\":0,\"ticks\":\"\"}},\"colorscale\":{\"diverging\":[[0,\"#8e0152\"],[0.1,\"#c51b7d\"],[0.2,\"#de77ae\"],[0.3,\"#f1b6da\"],[0.4,\"#fde0ef\"],[0.5,\"#f7f7f7\"],[0.6,\"#e6f5d0\"],[0.7,\"#b8e186\"],[0.8,\"#7fbc41\"],[0.9,\"#4d9221\"],[1,\"#276419\"]],\"sequential\":[[0.0,\"#0d0887\"],[0.1111111111111111,\"#46039f\"],[0.2222222222222222,\"#7201a8\"],[0.3333333333333333,\"#9c179e\"],[0.4444444444444444,\"#bd3786\"],[0.5555555555555556,\"#d8576b\"],[0.6666666666666666,\"#ed7953\"],[0.7777777777777778,\"#fb9f3a\"],[0.8888888888888888,\"#fdca26\"],[1.0,\"#f0f921\"]],\"sequentialminus\":[[0.0,\"#0d0887\"],[0.1111111111111111,\"#46039f\"],[0.2222222222222222,\"#7201a8\"],[0.3333333333333333,\"#9c179e\"],[0.4444444444444444,\"#bd3786\"],[0.5555555555555556,\"#d8576b\"],[0.6666666666666666,\"#ed7953\"],[0.7777777777777778,\"#fb9f3a\"],[0.8888888888888888,\"#fdca26\"],[1.0,\"#f0f921\"]]},\"colorway\":[\"#636efa\",\"#EF553B\",\"#00cc96\",\"#ab63fa\",\"#FFA15A\",\"#19d3f3\",\"#FF6692\",\"#B6E880\",\"#FF97FF\",\"#FECB52\"],\"font\":{\"color\":\"#f2f5fa\"},\"geo\":{\"bgcolor\":\"rgb(17,17,17)\",\"lakecolor\":\"rgb(17,17,17)\",\"landcolor\":\"rgb(17,17,17)\",\"showlakes\":true,\"showland\":true,\"subunitcolor\":\"#506784\"},\"hoverlabel\":{\"align\":\"left\"},\"hovermode\":\"closest\",\"mapbox\":{\"style\":\"dark\"},\"paper_bgcolor\":\"rgb(17,17,17)\",\"plot_bgcolor\":\"rgb(17,17,17)\",\"polar\":{\"angularaxis\":{\"gridcolor\":\"#506784\",\"linecolor\":\"#506784\",\"ticks\":\"\"},\"bgcolor\":\"rgb(17,17,17)\",\"radialaxis\":{\"gridcolor\":\"#506784\",\"linecolor\":\"#506784\",\"ticks\":\"\"}},\"scene\":{\"xaxis\":{\"backgroundcolor\":\"rgb(17,17,17)\",\"gridcolor\":\"#506784\",\"gridwidth\":2,\"linecolor\":\"#506784\",\"showbackground\":true,\"ticks\":\"\",\"zerolinecolor\":\"#C8D4E3\"},\"yaxis\":{\"backgroundcolor\":\"rgb(17,17,17)\",\"gridcolor\":\"#506784\",\"gridwidth\":2,\"linecolor\":\"#506784\",\"showbackground\":true,\"ticks\":\"\",\"zerolinecolor\":\"#C8D4E3\"},\"zaxis\":{\"backgroundcolor\":\"rgb(17,17,17)\",\"gridcolor\":\"#506784\",\"gridwidth\":2,\"linecolor\":\"#506784\",\"showbackground\":true,\"ticks\":\"\",\"zerolinecolor\":\"#C8D4E3\"}},\"shapedefaults\":{\"line\":{\"color\":\"#f2f5fa\"}},\"sliderdefaults\":{\"bgcolor\":\"#C8D4E3\",\"bordercolor\":\"rgb(17,17,17)\",\"borderwidth\":1,\"tickwidth\":0},\"ternary\":{\"aaxis\":{\"gridcolor\":\"#506784\",\"linecolor\":\"#506784\",\"ticks\":\"\"},\"baxis\":{\"gridcolor\":\"#506784\",\"linecolor\":\"#506784\",\"ticks\":\"\"},\"bgcolor\":\"rgb(17,17,17)\",\"caxis\":{\"gridcolor\":\"#506784\",\"linecolor\":\"#506784\",\"ticks\":\"\"}},\"title\":{\"x\":0.05},\"updatemenudefaults\":{\"bgcolor\":\"#506784\",\"borderwidth\":0},\"xaxis\":{\"automargin\":true,\"gridcolor\":\"#283442\",\"linecolor\":\"#506784\",\"ticks\":\"\",\"title\":{\"standoff\":15},\"zerolinecolor\":\"#283442\",\"zerolinewidth\":2},\"yaxis\":{\"automargin\":true,\"gridcolor\":\"#283442\",\"linecolor\":\"#506784\",\"ticks\":\"\",\"title\":{\"standoff\":15},\"zerolinecolor\":\"#283442\",\"zerolinewidth\":2}}},\"geo\":{\"domain\":{\"x\":[0.0,1.0],\"y\":[0.0,1.0]},\"center\":{}},\"coloraxis\":{\"colorbar\":{\"title\":{\"text\":\"Confirmed\"}},\"colorscale\":[[0.0,\"#0d0887\"],[0.1111111111111111,\"#46039f\"],[0.2222222222222222,\"#7201a8\"],[0.3333333333333333,\"#9c179e\"],[0.4444444444444444,\"#bd3786\"],[0.5555555555555556,\"#d8576b\"],[0.6666666666666666,\"#ed7953\"],[0.7777777777777778,\"#fb9f3a\"],[0.8888888888888888,\"#fdca26\"],[1.0,\"#f0f921\"]]},\"legend\":{\"tracegroupgap\":0,\"itemsizing\":\"constant\"},\"margin\":{\"t\":60}},                        {\"responsive\": true}                    ).then(function(){\n",
       "                            \n",
       "var gd = document.getElementById('a4a94c4b-230c-48ae-84d5-c1b959bf806f');\n",
       "var x = new MutationObserver(function (mutations, observer) {{\n",
       "        var display = window.getComputedStyle(gd).display;\n",
       "        if (!display || display === 'none') {{\n",
       "            console.log([gd, 'removed!']);\n",
       "            Plotly.purge(gd);\n",
       "            observer.disconnect();\n",
       "        }}\n",
       "}});\n",
       "\n",
       "// Listen for the removal of the full notebook cells\n",
       "var notebookContainer = gd.closest('#notebook-container');\n",
       "if (notebookContainer) {{\n",
       "    x.observe(notebookContainer, {childList: true});\n",
       "}}\n",
       "\n",
       "// Listen for the clearing of the current output cell\n",
       "var outputEl = gd.closest('.output');\n",
       "if (outputEl) {{\n",
       "    x.observe(outputEl, {childList: true});\n",
       "}}\n",
       "\n",
       "                        })                };                });            </script>        </div>"
      ]
     },
     "metadata": {},
     "output_type": "display_data"
    }
   ],
   "source": [
    "\n",
    "from data import countries_df\n",
    "import plotly.express as px\n",
    "\n",
    "print(countries_df.head())\n",
    "\n",
    "projections = ['equirectangular', 'mercator', 'orthographic', 'natural earth', 'kavrayskiy7', 'miller', 'robinson', 'eckert4', 'azimuthal equal area', 'azimuthal equidistant', 'conic equal area', 'conic conformal', 'conic equidistant', 'gnomonic', 'stereographic', 'mollweide', 'hammer', 'transverse mercator', 'albers usa', 'winkel tripel', 'aitoff']\n",
    "\n",
    "for projection in projections:\n",
    "    fig = px.scatter_geo(countries_df,\n",
    "                         projection=projection,\n",
    "                         template=\"plotly_dark\",\n",
    "                         size=\"Confirmed\",\n",
    "                         size_max=50,\n",
    "                         locations=\"Country_Region\", \n",
    "                         locationmode='country names', \n",
    "                         color = \"Confirmed\", \n",
    "                         hover_name = \"Country_Region\", \n",
    "                         hover_data = {\n",
    "                             \"Confirmed\":\":,.0f\", \n",
    "                             \"Deaths\":\":,.0f\", \n",
    "                             \"Recovered\":\":,.0f\", \n",
    "                             \"Country_Region\":False\n",
    "                         })\n",
    "fig.show()\n"
   ]
  },
  {
   "cell_type": "code",
   "execution_count": null,
   "id": "11a26def-cb1b-4354-b2de-d426a19edd05",
   "metadata": {},
   "outputs": [],
   "source": [
    "\""
   ]
  }
 ],
 "metadata": {
  "kernelspec": {
   "display_name": "Python 3 (ipykernel)",
   "language": "python",
   "name": "python3"
  },
  "language_info": {
   "codemirror_mode": {
    "name": "ipython",
    "version": 3
   },
   "file_extension": ".py",
   "mimetype": "text/x-python",
   "name": "python",
   "nbconvert_exporter": "python",
   "pygments_lexer": "ipython3",
   "version": "3.10.12"
  }
 },
 "nbformat": 4,
 "nbformat_minor": 5
}
